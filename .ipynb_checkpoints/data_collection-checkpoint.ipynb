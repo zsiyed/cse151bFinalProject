{
 "cells": [
  {
   "cell_type": "code",
   "execution_count": 9,
   "id": "f9f31191-a8e0-4dc4-8b72-c387ce967d7f",
   "metadata": {},
   "outputs": [],
   "source": [
    "import pandas as pd"
   ]
  },
  {
   "cell_type": "code",
   "execution_count": 1,
   "id": "ae2bdf1f-dcdf-4830-9035-1497e8b809b7",
   "metadata": {},
   "outputs": [
    {
     "data": {
      "application/vnd.jupyter.widget-view+json": {
       "model_id": "b7b45c4c569246c987e7452ec9b031b6",
       "version_major": 2,
       "version_minor": 0
      },
      "text/plain": [
       "README.md:   0%|          | 0.00/1.01k [00:00<?, ?B/s]"
      ]
     },
     "metadata": {},
     "output_type": "display_data"
    },
    {
     "data": {
      "application/vnd.jupyter.widget-view+json": {
       "model_id": "7dcfd10550c34346bfc137186ec20ccb",
       "version_major": 2,
       "version_minor": 0
      },
      "text/plain": [
       "quotes.jsonl:   0%|          | 0.00/643k [00:00<?, ?B/s]"
      ]
     },
     "metadata": {},
     "output_type": "display_data"
    },
    {
     "data": {
      "application/vnd.jupyter.widget-view+json": {
       "model_id": "1b07efbf4c754820b49f85998adc80e3",
       "version_major": 2,
       "version_minor": 0
      },
      "text/plain": [
       "Generating train split:   0%|          | 0/4262 [00:00<?, ? examples/s]"
      ]
     },
     "metadata": {},
     "output_type": "display_data"
    }
   ],
   "source": [
    "from datasets import load_dataset\n",
    "\n",
    "hf_quotes = load_dataset(\"asuender/motivational-quotes\", \"quotes\")"
   ]
  },
  {
   "cell_type": "code",
   "execution_count": 18,
   "id": "4258242c-aba5-4578-abaf-3e19eb3c5119",
   "metadata": {},
   "outputs": [],
   "source": [
    "quote_list = hf_quotes['train']['quote']"
   ]
  },
  {
   "cell_type": "code",
   "execution_count": 10,
   "id": "af9269d4-7c2b-4fea-acb0-bb184df6f287",
   "metadata": {},
   "outputs": [
    {
     "data": {
      "text/html": [
       "<div>\n",
       "<style scoped>\n",
       "    .dataframe tbody tr th:only-of-type {\n",
       "        vertical-align: middle;\n",
       "    }\n",
       "\n",
       "    .dataframe tbody tr th {\n",
       "        vertical-align: top;\n",
       "    }\n",
       "\n",
       "    .dataframe thead th {\n",
       "        text-align: right;\n",
       "    }\n",
       "</style>\n",
       "<table border=\"1\" class=\"dataframe\">\n",
       "  <thead>\n",
       "    <tr style=\"text-align: right;\">\n",
       "      <th></th>\n",
       "      <th>Author</th>\n",
       "      <th>Quote</th>\n",
       "    </tr>\n",
       "  </thead>\n",
       "  <tbody>\n",
       "    <tr>\n",
       "      <th>0</th>\n",
       "      <td>Thomas Edison</td>\n",
       "      <td>Genius is one percent inspiration and ninety-n...</td>\n",
       "    </tr>\n",
       "    <tr>\n",
       "      <th>1</th>\n",
       "      <td>Yogi Berra</td>\n",
       "      <td>You can observe a lot just by watching.</td>\n",
       "    </tr>\n",
       "    <tr>\n",
       "      <th>2</th>\n",
       "      <td>Abraham Lincoln</td>\n",
       "      <td>A house divided against itself cannot stand.</td>\n",
       "    </tr>\n",
       "    <tr>\n",
       "      <th>3</th>\n",
       "      <td>Johann Wolfgang von Goethe</td>\n",
       "      <td>Difficulties increase the nearer we get to the...</td>\n",
       "    </tr>\n",
       "    <tr>\n",
       "      <th>4</th>\n",
       "      <td>Byron Pulsifer</td>\n",
       "      <td>Fate is in your hands and no one elses</td>\n",
       "    </tr>\n",
       "  </tbody>\n",
       "</table>\n",
       "</div>"
      ],
      "text/plain": [
       "                       Author  \\\n",
       "0               Thomas Edison   \n",
       "1                  Yogi Berra   \n",
       "2             Abraham Lincoln   \n",
       "3  Johann Wolfgang von Goethe   \n",
       "4              Byron Pulsifer   \n",
       "\n",
       "                                               Quote  \n",
       "0  Genius is one percent inspiration and ninety-n...  \n",
       "1            You can observe a lot just by watching.  \n",
       "2       A house divided against itself cannot stand.  \n",
       "3  Difficulties increase the nearer we get to the...  \n",
       "4             Fate is in your hands and no one elses  "
      ]
     },
     "execution_count": 10,
     "metadata": {},
     "output_type": "execute_result"
    }
   ],
   "source": [
    "quote_csv = pd.read_csv('./data/quotes.csv')\n",
    "quote_csv.head()"
   ]
  },
  {
   "cell_type": "code",
   "execution_count": 21,
   "id": "7fd2a06a-46b6-46f0-bde4-80e38ca216c5",
   "metadata": {},
   "outputs": [],
   "source": [
    "quote_list = quote_list + list(quote_csv['Quote'])"
   ]
  },
  {
   "cell_type": "code",
   "execution_count": 24,
   "id": "1d305f4f-5d18-4192-af1d-3bfff31d2ca3",
   "metadata": {},
   "outputs": [
    {
     "data": {
      "text/plain": [
       "['“Attitude is a choice. Happiness is a choice. Optimism is a choice. Kindness is a choice. Giving is a choice. Respect is a choice. Whatever choice you make makes you. Choose wisely.”',\n",
       " \"“Don't be pushed around by the fears in your mind. Be led by the dreams in your heart.”\",\n",
       " '“Believe in yourself. You are braver than you think, more talented than you know, and capable of more than you imagine.”',\n",
       " '“Live the Life of Your Dreams: Be brave enough to live the life of your dreams according to your vision and purpose instead of the expectations and opinions of others.”',\n",
       " '“It’s only after you’ve stepped outside your comfort zone that you begin to change, grow, and transform.”']"
      ]
     },
     "execution_count": 24,
     "metadata": {},
     "output_type": "execute_result"
    }
   ],
   "source": [
    "quote_list[:5]"
   ]
  },
  {
   "cell_type": "code",
   "execution_count": null,
   "id": "634a7b42-6ff7-4e07-9aa2-e40b9417fb8f",
   "metadata": {},
   "outputs": [],
   "source": []
  }
 ],
 "metadata": {
  "kernelspec": {
   "display_name": "Python 3 (ipykernel)",
   "language": "python",
   "name": "python3"
  },
  "language_info": {
   "codemirror_mode": {
    "name": "ipython",
    "version": 3
   },
   "file_extension": ".py",
   "mimetype": "text/x-python",
   "name": "python",
   "nbconvert_exporter": "python",
   "pygments_lexer": "ipython3",
   "version": "3.11.9"
  }
 },
 "nbformat": 4,
 "nbformat_minor": 5
}
