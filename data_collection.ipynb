{
 "cells": [
  {
   "cell_type": "code",
   "execution_count": 9,
   "id": "f9f31191-a8e0-4dc4-8b72-c387ce967d7f",
   "metadata": {},
   "outputs": [],
   "source": [
    "import pandas as pd"
   ]
  },
  {
   "cell_type": "code",
   "execution_count": 1,
   "id": "ae2bdf1f-dcdf-4830-9035-1497e8b809b7",
   "metadata": {},
   "outputs": [
    {
     "data": {
      "application/vnd.jupyter.widget-view+json": {
       "model_id": "b7b45c4c569246c987e7452ec9b031b6",
       "version_major": 2,
       "version_minor": 0
      },
      "text/plain": [
       "README.md:   0%|          | 0.00/1.01k [00:00<?, ?B/s]"
      ]
     },
     "metadata": {},
     "output_type": "display_data"
    },
    {
     "data": {
      "application/vnd.jupyter.widget-view+json": {
       "model_id": "7dcfd10550c34346bfc137186ec20ccb",
       "version_major": 2,
       "version_minor": 0
      },
      "text/plain": [
       "quotes.jsonl:   0%|          | 0.00/643k [00:00<?, ?B/s]"
      ]
     },
     "metadata": {},
     "output_type": "display_data"
    },
    {
     "data": {
      "application/vnd.jupyter.widget-view+json": {
       "model_id": "1b07efbf4c754820b49f85998adc80e3",
       "version_major": 2,
       "version_minor": 0
      },
      "text/plain": [
       "Generating train split:   0%|          | 0/4262 [00:00<?, ? examples/s]"
      ]
     },
     "metadata": {},
     "output_type": "display_data"
    }
   ],
   "source": [
    "from datasets import load_dataset\n",
    "\n",
    "hf_quotes = load_dataset(\"asuender/motivational-quotes\", \"quotes\")"
   ]
  },
  {
   "cell_type": "code",
   "execution_count": 18,
   "id": "4258242c-aba5-4578-abaf-3e19eb3c5119",
   "metadata": {},
   "outputs": [],
   "source": [
    "quote_list = hf_quotes['train']['quote']"
   ]
  },
  {
   "cell_type": "code",
   "execution_count": 10,
   "id": "af9269d4-7c2b-4fea-acb0-bb184df6f287",
   "metadata": {},
   "outputs": [
    {
     "data": {
      "text/html": [
       "<div>\n",
       "<style scoped>\n",
       "    .dataframe tbody tr th:only-of-type {\n",
       "        vertical-align: middle;\n",
       "    }\n",
       "\n",
       "    .dataframe tbody tr th {\n",
       "        vertical-align: top;\n",
       "    }\n",
       "\n",
       "    .dataframe thead th {\n",
       "        text-align: right;\n",
       "    }\n",
       "</style>\n",
       "<table border=\"1\" class=\"dataframe\">\n",
       "  <thead>\n",
       "    <tr style=\"text-align: right;\">\n",
       "      <th></th>\n",
       "      <th>Author</th>\n",
       "      <th>Quote</th>\n",
       "    </tr>\n",
       "  </thead>\n",
       "  <tbody>\n",
       "    <tr>\n",
       "      <th>0</th>\n",
       "      <td>Thomas Edison</td>\n",
       "      <td>Genius is one percent inspiration and ninety-n...</td>\n",
       "    </tr>\n",
       "    <tr>\n",
       "      <th>1</th>\n",
       "      <td>Yogi Berra</td>\n",
       "      <td>You can observe a lot just by watching.</td>\n",
       "    </tr>\n",
       "    <tr>\n",
       "      <th>2</th>\n",
       "      <td>Abraham Lincoln</td>\n",
       "      <td>A house divided against itself cannot stand.</td>\n",
       "    </tr>\n",
       "    <tr>\n",
       "      <th>3</th>\n",
       "      <td>Johann Wolfgang von Goethe</td>\n",
       "      <td>Difficulties increase the nearer we get to the...</td>\n",
       "    </tr>\n",
       "    <tr>\n",
       "      <th>4</th>\n",
       "      <td>Byron Pulsifer</td>\n",
       "      <td>Fate is in your hands and no one elses</td>\n",
       "    </tr>\n",
       "  </tbody>\n",
       "</table>\n",
       "</div>"
      ],
      "text/plain": [
       "                       Author  \\\n",
       "0               Thomas Edison   \n",
       "1                  Yogi Berra   \n",
       "2             Abraham Lincoln   \n",
       "3  Johann Wolfgang von Goethe   \n",
       "4              Byron Pulsifer   \n",
       "\n",
       "                                               Quote  \n",
       "0  Genius is one percent inspiration and ninety-n...  \n",
       "1            You can observe a lot just by watching.  \n",
       "2       A house divided against itself cannot stand.  \n",
       "3  Difficulties increase the nearer we get to the...  \n",
       "4             Fate is in your hands and no one elses  "
      ]
     },
     "execution_count": 10,
     "metadata": {},
     "output_type": "execute_result"
    }
   ],
   "source": [
    "quote_csv = pd.read_csv('./data/quotes.csv')\n",
    "quote_csv.head()"
   ]
  },
  {
   "cell_type": "code",
   "execution_count": 21,
   "id": "7fd2a06a-46b6-46f0-bde4-80e38ca216c5",
   "metadata": {},
   "outputs": [],
   "source": [
    "quote_list = quote_list + list(quote_csv['Quote'])"
   ]
  },
  {
   "cell_type": "code",
   "execution_count": 24,
   "id": "1d305f4f-5d18-4192-af1d-3bfff31d2ca3",
   "metadata": {},
   "outputs": [
    {
     "data": {
      "text/plain": [
       "['“Attitude is a choice. Happiness is a choice. Optimism is a choice. Kindness is a choice. Giving is a choice. Respect is a choice. Whatever choice you make makes you. Choose wisely.”',\n",
       " \"“Don't be pushed around by the fears in your mind. Be led by the dreams in your heart.”\",\n",
       " '“Believe in yourself. You are braver than you think, more talented than you know, and capable of more than you imagine.”',\n",
       " '“Live the Life of Your Dreams: Be brave enough to live the life of your dreams according to your vision and purpose instead of the expectations and opinions of others.”',\n",
       " '“It’s only after you’ve stepped outside your comfort zone that you begin to change, grow, and transform.”']"
      ]
     },
     "execution_count": 24,
     "metadata": {},
     "output_type": "execute_result"
    }
   ],
   "source": [
    "quote_list[:5]"
   ]
  },
  {
   "cell_type": "code",
   "execution_count": 26,
   "id": "634a7b42-6ff7-4e07-9aa2-e40b9417fb8f",
   "metadata": {},
   "outputs": [
    {
     "data": {
      "text/html": [
       "<div>\n",
       "<style scoped>\n",
       "    .dataframe tbody tr th:only-of-type {\n",
       "        vertical-align: middle;\n",
       "    }\n",
       "\n",
       "    .dataframe tbody tr th {\n",
       "        vertical-align: top;\n",
       "    }\n",
       "\n",
       "    .dataframe thead th {\n",
       "        text-align: right;\n",
       "    }\n",
       "</style>\n",
       "<table border=\"1\" class=\"dataframe\">\n",
       "  <thead>\n",
       "    <tr style=\"text-align: right;\">\n",
       "      <th></th>\n",
       "      <th>Unnamed: 0</th>\n",
       "      <th>Category</th>\n",
       "      <th>Quote</th>\n",
       "      <th>Image-link</th>\n",
       "      <th>Quote-url</th>\n",
       "    </tr>\n",
       "  </thead>\n",
       "  <tbody>\n",
       "    <tr>\n",
       "      <th>0</th>\n",
       "      <td>0</td>\n",
       "      <td>LOVE</td>\n",
       "      <td>Let us see what love can do.</td>\n",
       "      <td>https://assets.passiton.com/quotes/quote_artwo...</td>\n",
       "      <td>/inspirational-quotes/6900-let-us-see-what-lov...</td>\n",
       "    </tr>\n",
       "    <tr>\n",
       "      <th>1</th>\n",
       "      <td>1</td>\n",
       "      <td>LOVE</td>\n",
       "      <td>We can’t heal the world today. But we can begi...</td>\n",
       "      <td>https://assets.passiton.com/quotes/quote_artwo...</td>\n",
       "      <td>/inspirational-quotes/8169-we-can-t-heal-the-w...</td>\n",
       "    </tr>\n",
       "    <tr>\n",
       "      <th>2</th>\n",
       "      <td>2</td>\n",
       "      <td>LISTENING</td>\n",
       "      <td>Listen with curiosity. Speak with honesty. Act...</td>\n",
       "      <td>https://assets.passiton.com/quotes/quote_artwo...</td>\n",
       "      <td>/inspirational-quotes/8083-listen-with-curiosi...</td>\n",
       "    </tr>\n",
       "    <tr>\n",
       "      <th>3</th>\n",
       "      <td>3</td>\n",
       "      <td>LISTENING</td>\n",
       "      <td>The most basic and powerful way to connect to ...</td>\n",
       "      <td>https://assets.passiton.com/quotes/quote_artwo...</td>\n",
       "      <td>/inspirational-quotes/7139-the-most-basic-and-...</td>\n",
       "    </tr>\n",
       "    <tr>\n",
       "      <th>4</th>\n",
       "      <td>4</td>\n",
       "      <td>LISTENING</td>\n",
       "      <td>Knowledge speaks, but wisdom listens.</td>\n",
       "      <td>https://assets.passiton.com/quotes/quote_artwo...</td>\n",
       "      <td>/inspirational-quotes/8376-knowledge-speaks-bu...</td>\n",
       "    </tr>\n",
       "  </tbody>\n",
       "</table>\n",
       "</div>"
      ],
      "text/plain": [
       "   Unnamed: 0   Category                                              Quote  \\\n",
       "0           0       LOVE                      Let us see what love can do.    \n",
       "1           1       LOVE  We can’t heal the world today. But we can begi...   \n",
       "2           2  LISTENING  Listen with curiosity. Speak with honesty. Act...   \n",
       "3           3  LISTENING  The most basic and powerful way to connect to ...   \n",
       "4           4  LISTENING             Knowledge speaks, but wisdom listens.    \n",
       "\n",
       "                                          Image-link  \\\n",
       "0  https://assets.passiton.com/quotes/quote_artwo...   \n",
       "1  https://assets.passiton.com/quotes/quote_artwo...   \n",
       "2  https://assets.passiton.com/quotes/quote_artwo...   \n",
       "3  https://assets.passiton.com/quotes/quote_artwo...   \n",
       "4  https://assets.passiton.com/quotes/quote_artwo...   \n",
       "\n",
       "                                           Quote-url  \n",
       "0  /inspirational-quotes/6900-let-us-see-what-lov...  \n",
       "1  /inspirational-quotes/8169-we-can-t-heal-the-w...  \n",
       "2  /inspirational-quotes/8083-listen-with-curiosi...  \n",
       "3  /inspirational-quotes/7139-the-most-basic-and-...  \n",
       "4  /inspirational-quotes/8376-knowledge-speaks-bu...  "
      ]
     },
     "execution_count": 26,
     "metadata": {},
     "output_type": "execute_result"
    }
   ],
   "source": [
    "inpiration_csv = pd.read_csv('./data/insparation.csv')\n",
    "inpiration_csv.head()"
   ]
  },
  {
   "cell_type": "code",
   "execution_count": 27,
   "id": "e81efe81-6b5e-43db-8a55-2fc2609a60c5",
   "metadata": {},
   "outputs": [],
   "source": [
    "quote_list = quote_list + list(inpiration_csv['Quote'])"
   ]
  },
  {
   "cell_type": "code",
   "execution_count": 28,
   "id": "a3ccc448-fcb1-4a56-9d38-5b87b6f4d824",
   "metadata": {},
   "outputs": [
    {
     "data": {
      "text/plain": [
       "7672"
      ]
     },
     "execution_count": 28,
     "metadata": {},
     "output_type": "execute_result"
    }
   ],
   "source": [
    "len(quote_list)"
   ]
  },
  {
   "cell_type": "code",
   "execution_count": 1,
   "id": "2f06ad03-df8f-497f-88a9-85b824dd24ef",
   "metadata": {},
   "outputs": [
    {
     "ename": "NameError",
     "evalue": "name 'my_list' is not defined",
     "output_type": "error",
     "traceback": [
      "\u001b[0;31m---------------------------------------------------------------------------\u001b[0m",
      "\u001b[0;31mNameError\u001b[0m                                 Traceback (most recent call last)",
      "Cell \u001b[0;32mIn[1], line 7\u001b[0m\n\u001b[1;32m      5\u001b[0m \u001b[38;5;66;03m# Write list to JSON file\u001b[39;00m\n\u001b[1;32m      6\u001b[0m \u001b[38;5;28;01mwith\u001b[39;00m \u001b[38;5;28mopen\u001b[39m(file_path, \u001b[38;5;124m\"\u001b[39m\u001b[38;5;124mw\u001b[39m\u001b[38;5;124m\"\u001b[39m) \u001b[38;5;28;01mas\u001b[39;00m json_file:\n\u001b[0;32m----> 7\u001b[0m     json\u001b[38;5;241m.\u001b[39mdump(\u001b[43mmy_list\u001b[49m, json_file, indent\u001b[38;5;241m=\u001b[39m\u001b[38;5;241m4\u001b[39m)\n",
      "\u001b[0;31mNameError\u001b[0m: name 'my_list' is not defined"
     ]
    }
   ],
   "source": [
    "import json\n",
    "# File path\n",
    "file_path = \"data/processed_quotes.json\"\n",
    "\n",
    "# Write list to JSON file\n",
    "with open(file_path, \"w\") as json_file:\n",
    "    json.dump(my_list, json_file, indent=4)\n"
   ]
  },
  {
   "cell_type": "code",
   "execution_count": null,
   "id": "ec4a7843-d162-491a-be11-a741229ab41d",
   "metadata": {},
   "outputs": [],
   "source": []
  }
 ],
 "metadata": {
  "kernelspec": {
   "display_name": "Python 3 (ipykernel)",
   "language": "python",
   "name": "python3"
  },
  "language_info": {
   "codemirror_mode": {
    "name": "ipython",
    "version": 3
   },
   "file_extension": ".py",
   "mimetype": "text/x-python",
   "name": "python",
   "nbconvert_exporter": "python",
   "pygments_lexer": "ipython3",
   "version": "3.11.9"
  }
 },
 "nbformat": 4,
 "nbformat_minor": 5
}
